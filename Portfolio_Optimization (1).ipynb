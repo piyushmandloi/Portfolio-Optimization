{
 "cells": [
  {
   "cell_type": "code",
   "execution_count": 1,
   "metadata": {
    "colab": {
     "base_uri": "https://localhost:8080/"
    },
    "id": "N7imNz-ldPOB",
    "outputId": "f7ffac8d-c670-42a2-eab4-8c46460aee91"
   },
   "outputs": [
    {
     "name": "stdout",
     "output_type": "stream",
     "text": [
      "Requirement already satisfied: qiskit in c:\\users\\hp\\anaconda3\\lib\\site-packages (0.36.1)\n",
      "Requirement already satisfied: qiskit-aer==0.10.4 in c:\\users\\hp\\anaconda3\\lib\\site-packages (from qiskit) (0.10.4)\n",
      "Requirement already satisfied: qiskit-ignis==0.7.0 in c:\\users\\hp\\anaconda3\\lib\\site-packages (from qiskit) (0.7.0)\n",
      "Requirement already satisfied: qiskit-ibmq-provider==0.19.1 in c:\\users\\hp\\anaconda3\\lib\\site-packages (from qiskit) (0.19.1)\n",
      "Requirement already satisfied: qiskit-terra==0.20.1 in c:\\users\\hp\\anaconda3\\lib\\site-packages (from qiskit) (0.20.1)\n",
      "Requirement already satisfied: scipy>=1.0 in c:\\users\\hp\\anaconda3\\lib\\site-packages (from qiskit-aer==0.10.4->qiskit) (1.6.2)\n",
      "Requirement already satisfied: numpy>=1.16.3 in c:\\users\\hp\\anaconda3\\lib\\site-packages (from qiskit-aer==0.10.4->qiskit) (1.20.1)\n",
      "Requirement already satisfied: requests>=2.19 in c:\\users\\hp\\anaconda3\\lib\\site-packages (from qiskit-ibmq-provider==0.19.1->qiskit) (2.27.1)\n",
      "Requirement already satisfied: websocket-client>=1.0.1 in c:\\users\\hp\\anaconda3\\lib\\site-packages (from qiskit-ibmq-provider==0.19.1->qiskit) (1.3.2)\n",
      "Requirement already satisfied: websockets>=10.0 in c:\\users\\hp\\anaconda3\\lib\\site-packages (from qiskit-ibmq-provider==0.19.1->qiskit) (10.3)\n",
      "Requirement already satisfied: python-dateutil>=2.8.0 in c:\\users\\hp\\anaconda3\\lib\\site-packages (from qiskit-ibmq-provider==0.19.1->qiskit) (2.8.1)\n",
      "Requirement already satisfied: urllib3>=1.21.1 in c:\\users\\hp\\anaconda3\\lib\\site-packages (from qiskit-ibmq-provider==0.19.1->qiskit) (1.26.4)\n",
      "Requirement already satisfied: requests-ntlm>=1.1.0 in c:\\users\\hp\\anaconda3\\lib\\site-packages (from qiskit-ibmq-provider==0.19.1->qiskit) (1.1.0)\n",
      "Requirement already satisfied: retworkx>=0.8.0 in c:\\users\\hp\\anaconda3\\lib\\site-packages (from qiskit-ignis==0.7.0->qiskit) (0.11.0)\n",
      "Requirement already satisfied: setuptools>=40.1.0 in c:\\users\\hp\\anaconda3\\lib\\site-packages (from qiskit-ignis==0.7.0->qiskit) (52.0.0.post20210125)\n",
      "Requirement already satisfied: ply>=3.10 in c:\\users\\hp\\anaconda3\\lib\\site-packages (from qiskit-terra==0.20.1->qiskit) (3.11)\n",
      "Requirement already satisfied: psutil>=5 in c:\\users\\hp\\anaconda3\\lib\\site-packages (from qiskit-terra==0.20.1->qiskit) (5.8.0)\n",
      "Requirement already satisfied: stevedore>=3.0.0 in c:\\users\\hp\\anaconda3\\lib\\site-packages (from qiskit-terra==0.20.1->qiskit) (3.5.0)\n",
      "Requirement already satisfied: sympy>=1.3 in c:\\users\\hp\\anaconda3\\lib\\site-packages (from qiskit-terra==0.20.1->qiskit) (1.8)\n",
      "Requirement already satisfied: dill>=0.3 in c:\\users\\hp\\anaconda3\\lib\\site-packages (from qiskit-terra==0.20.1->qiskit) (0.3.4)\n",
      "Requirement already satisfied: python-constraint>=1.4 in c:\\users\\hp\\anaconda3\\lib\\site-packages (from qiskit-terra==0.20.1->qiskit) (1.4.0)\n",
      "Requirement already satisfied: tweedledum<2.0,>=1.1 in c:\\users\\hp\\anaconda3\\lib\\site-packages (from qiskit-terra==0.20.1->qiskit) (1.1.1)\n",
      "Requirement already satisfied: six>=1.5 in c:\\users\\hp\\anaconda3\\lib\\site-packages (from python-dateutil>=2.8.0->qiskit-ibmq-provider==0.19.1->qiskit) (1.15.0)\n",
      "Requirement already satisfied: idna<4,>=2.5 in c:\\users\\hp\\anaconda3\\lib\\site-packages (from requests>=2.19->qiskit-ibmq-provider==0.19.1->qiskit) (2.10)\n",
      "Requirement already satisfied: certifi>=2017.4.17 in c:\\users\\hp\\anaconda3\\lib\\site-packages (from requests>=2.19->qiskit-ibmq-provider==0.19.1->qiskit) (2020.12.5)\n",
      "Requirement already satisfied: charset-normalizer~=2.0.0 in c:\\users\\hp\\anaconda3\\lib\\site-packages (from requests>=2.19->qiskit-ibmq-provider==0.19.1->qiskit) (2.0.9)\n",
      "Requirement already satisfied: cryptography>=1.3 in c:\\users\\hp\\anaconda3\\lib\\site-packages (from requests-ntlm>=1.1.0->qiskit-ibmq-provider==0.19.1->qiskit) (3.4.7)\n",
      "Requirement already satisfied: ntlm-auth>=1.0.2 in c:\\users\\hp\\anaconda3\\lib\\site-packages (from requests-ntlm>=1.1.0->qiskit-ibmq-provider==0.19.1->qiskit) (1.5.0)\n",
      "Requirement already satisfied: cffi>=1.12 in c:\\users\\hp\\anaconda3\\lib\\site-packages (from cryptography>=1.3->requests-ntlm>=1.1.0->qiskit-ibmq-provider==0.19.1->qiskit) (1.14.5)\n",
      "Requirement already satisfied: pycparser in c:\\users\\hp\\anaconda3\\lib\\site-packages (from cffi>=1.12->cryptography>=1.3->requests-ntlm>=1.1.0->qiskit-ibmq-provider==0.19.1->qiskit) (2.20)\n",
      "Requirement already satisfied: pbr!=2.1.0,>=2.0.0 in c:\\users\\hp\\anaconda3\\lib\\site-packages (from stevedore>=3.0.0->qiskit-terra==0.20.1->qiskit) (5.8.1)\n",
      "Requirement already satisfied: mpmath>=0.19 in c:\\users\\hp\\anaconda3\\lib\\site-packages (from sympy>=1.3->qiskit-terra==0.20.1->qiskit) (1.2.1)\n",
      "Requirement already satisfied: qiskit-finance in c:\\users\\hp\\anaconda3\\lib\\site-packages (0.3.1)\n",
      "Requirement already satisfied: scipy>=1.4 in c:\\users\\hp\\anaconda3\\lib\\site-packages (from qiskit-finance) (1.6.2)\n",
      "Requirement already satisfied: pandas<1.4.0 in c:\\users\\hp\\anaconda3\\lib\\site-packages (from qiskit-finance) (1.2.4)\n",
      "Requirement already satisfied: quandl in c:\\users\\hp\\anaconda3\\lib\\site-packages (from qiskit-finance) (3.7.0)\n",
      "Requirement already satisfied: setuptools>=40.1.0 in c:\\users\\hp\\anaconda3\\lib\\site-packages (from qiskit-finance) (52.0.0.post20210125)\n",
      "Requirement already satisfied: qiskit-optimization>=0.2.0 in c:\\users\\hp\\anaconda3\\lib\\site-packages (from qiskit-finance) (0.3.2)\n",
      "Requirement already satisfied: fastdtw in c:\\users\\hp\\anaconda3\\lib\\site-packages (from qiskit-finance) (0.3.4)\n",
      "Requirement already satisfied: scikit-learn>=0.20.0 in c:\\users\\hp\\anaconda3\\lib\\site-packages (from qiskit-finance) (0.24.1)\n",
      "Requirement already satisfied: psutil>=5 in c:\\users\\hp\\anaconda3\\lib\\site-packages (from qiskit-finance) (5.8.0)\n",
      "Requirement already satisfied: numpy>=1.17 in c:\\users\\hp\\anaconda3\\lib\\site-packages (from qiskit-finance) (1.20.1)\n",
      "Requirement already satisfied: qiskit-terra>=0.17.0 in c:\\users\\hp\\anaconda3\\lib\\site-packages (from qiskit-finance) (0.20.1)\n",
      "Requirement already satisfied: yfinance>=0.1.62 in c:\\users\\hp\\anaconda3\\lib\\site-packages (from qiskit-finance) (0.1.70)\n",
      "Requirement already satisfied: pytz>=2017.3 in c:\\users\\hp\\anaconda3\\lib\\site-packages (from pandas<1.4.0->qiskit-finance) (2021.1)\n",
      "Requirement already satisfied: python-dateutil>=2.7.3 in c:\\users\\hp\\anaconda3\\lib\\site-packages (from pandas<1.4.0->qiskit-finance) (2.8.1)\n",
      "Requirement already satisfied: six>=1.5 in c:\\users\\hp\\anaconda3\\lib\\site-packages (from python-dateutil>=2.7.3->pandas<1.4.0->qiskit-finance) (1.15.0)\n",
      "Requirement already satisfied: docplex>=2.21.207 in c:\\users\\hp\\anaconda3\\lib\\site-packages (from qiskit-optimization>=0.2.0->qiskit-finance) (2.23.222)\n",
      "Requirement already satisfied: networkx>=2.2 in c:\\users\\hp\\anaconda3\\lib\\site-packages (from qiskit-optimization>=0.2.0->qiskit-finance) (2.5)\n",
      "Requirement already satisfied: decorator>=4.3.0 in c:\\users\\hp\\anaconda3\\lib\\site-packages (from networkx>=2.2->qiskit-optimization>=0.2.0->qiskit-finance) (5.0.6)\n",
      "Requirement already satisfied: dill>=0.3 in c:\\users\\hp\\anaconda3\\lib\\site-packages (from qiskit-terra>=0.17.0->qiskit-finance) (0.3.4)\n",
      "Requirement already satisfied: python-constraint>=1.4 in c:\\users\\hp\\anaconda3\\lib\\site-packages (from qiskit-terra>=0.17.0->qiskit-finance) (1.4.0)\n",
      "Requirement already satisfied: retworkx>=0.11.0 in c:\\users\\hp\\anaconda3\\lib\\site-packages (from qiskit-terra>=0.17.0->qiskit-finance) (0.11.0)\n",
      "Requirement already satisfied: sympy>=1.3 in c:\\users\\hp\\anaconda3\\lib\\site-packages (from qiskit-terra>=0.17.0->qiskit-finance) (1.8)\n",
      "Requirement already satisfied: stevedore>=3.0.0 in c:\\users\\hp\\anaconda3\\lib\\site-packages (from qiskit-terra>=0.17.0->qiskit-finance) (3.5.0)\n",
      "Requirement already satisfied: ply>=3.10 in c:\\users\\hp\\anaconda3\\lib\\site-packages (from qiskit-terra>=0.17.0->qiskit-finance) (3.11)\n",
      "Requirement already satisfied: tweedledum<2.0,>=1.1 in c:\\users\\hp\\anaconda3\\lib\\site-packages (from qiskit-terra>=0.17.0->qiskit-finance) (1.1.1)\n",
      "Requirement already satisfied: joblib>=0.11 in c:\\users\\hp\\anaconda3\\lib\\site-packages (from scikit-learn>=0.20.0->qiskit-finance) (1.0.1)\n",
      "Requirement already satisfied: threadpoolctl>=2.0.0 in c:\\users\\hp\\anaconda3\\lib\\site-packages (from scikit-learn>=0.20.0->qiskit-finance) (2.1.0)\n",
      "Requirement already satisfied: pbr!=2.1.0,>=2.0.0 in c:\\users\\hp\\anaconda3\\lib\\site-packages (from stevedore>=3.0.0->qiskit-terra>=0.17.0->qiskit-finance) (5.8.1)\n",
      "Requirement already satisfied: mpmath>=0.19 in c:\\users\\hp\\anaconda3\\lib\\site-packages (from sympy>=1.3->qiskit-terra>=0.17.0->qiskit-finance) (1.2.1)\n",
      "Requirement already satisfied: requests>=2.26 in c:\\users\\hp\\anaconda3\\lib\\site-packages (from yfinance>=0.1.62->qiskit-finance) (2.27.1)\n",
      "Requirement already satisfied: multitasking>=0.0.7 in c:\\users\\hp\\anaconda3\\lib\\site-packages (from yfinance>=0.1.62->qiskit-finance) (0.0.10)\n",
      "Requirement already satisfied: lxml>=4.5.1 in c:\\users\\hp\\anaconda3\\lib\\site-packages (from yfinance>=0.1.62->qiskit-finance) (4.6.3)\n",
      "Requirement already satisfied: urllib3<1.27,>=1.21.1 in c:\\users\\hp\\anaconda3\\lib\\site-packages (from requests>=2.26->yfinance>=0.1.62->qiskit-finance) (1.26.4)\n",
      "Requirement already satisfied: idna<4,>=2.5 in c:\\users\\hp\\anaconda3\\lib\\site-packages (from requests>=2.26->yfinance>=0.1.62->qiskit-finance) (2.10)\n",
      "Requirement already satisfied: charset-normalizer~=2.0.0 in c:\\users\\hp\\anaconda3\\lib\\site-packages (from requests>=2.26->yfinance>=0.1.62->qiskit-finance) (2.0.9)\n",
      "Requirement already satisfied: certifi>=2017.4.17 in c:\\users\\hp\\anaconda3\\lib\\site-packages (from requests>=2.26->yfinance>=0.1.62->qiskit-finance) (2020.12.5)\n",
      "Requirement already satisfied: inflection>=0.3.1 in c:\\users\\hp\\anaconda3\\lib\\site-packages (from quandl->qiskit-finance) (0.5.1)\n",
      "Requirement already satisfied: more-itertools in c:\\users\\hp\\anaconda3\\lib\\site-packages (from quandl->qiskit-finance) (8.7.0)\n"
     ]
    }
   ],
   "source": [
    "!pip install qiskit\n",
    "!pip install qiskit-finance"
   ]
  },
  {
   "cell_type": "code",
   "execution_count": 2,
   "metadata": {
    "id": "oEXv9nANeD1D"
   },
   "outputs": [],
   "source": [
    "# from qiskit import IBMQ\n",
    "# IBMQ.save_account('0dfe590daea1f831b46d806e8920a4a06d10b1c7e8ec84969ad7e0ce7d402a162b2cacc8e9d25bfa8c00aa9b6176da473db2b8e75622062aa9524bb257a8eb75')\n",
    "\n",
    "# IBMQ.load_account()\n",
    "# provider = IBMQ.get_provider('ibm-q')\n",
    "# qcomp= provider.get_backend('simulator_extended_stabilizer')\n",
    "# ''' \n",
    "# simulator_extended_stabilizer= 63\n",
    "# simulator_mps=100\n",
    "# '''\n"
   ]
  },
  {
   "cell_type": "code",
   "execution_count": null,
   "metadata": {
    "id": "ZmCcc91IdXoi"
   },
   "outputs": [],
   "source": [
    "\n"
   ]
  },
  {
   "cell_type": "code",
   "execution_count": 3,
   "metadata": {
    "id": "4O-R2bxkeM49"
   },
   "outputs": [],
   "source": [
    "from qiskit import Aer\n",
    "from qiskit.algorithms import VQE, QAOA, NumPyMinimumEigensolver\n",
    "from qiskit.algorithms.optimizers import COBYLA\n",
    "from qiskit.circuit.library import TwoLocal\n",
    "from qiskit.utils import QuantumInstance\n",
    "from qiskit_finance.applications.optimization import PortfolioOptimization\n",
    "from qiskit_finance.data_providers import RandomDataProvider\n",
    "from qiskit_optimization.algorithms import MinimumEigenOptimizer\n",
    "from qiskit_optimization.applications import OptimizationApplication\n",
    "from qiskit_optimization.converters import QuadraticProgramToQubo\n",
    "import numpy as np\n",
    "import matplotlib.pyplot as plt\n",
    "import datetime"
   ]
  },
  {
   "cell_type": "code",
   "execution_count": 4,
   "metadata": {
    "id": "bCWUktpPedxB"
   },
   "outputs": [],
   "source": [
    "# # set number of assets (= number of qubits)\n",
    "# num_assets = 4\n",
    "# seed = 123\n",
    "\n",
    "# # Generate expected return and covariance matrix from (random) time-series\n",
    "# stocks = [(\"TICKER%s\" % i) for i in range(num_assets)]\n",
    "# data = RandomDataProvider(\n",
    "#     tickers=stocks,\n",
    "#     start=datetime.datetime(2016, 1, 1),\n",
    "#     end=datetime.datetime(2016, 1, 30),\n",
    "#     seed=seed,  \n",
    "# )\n",
    "# data.run()\n",
    "# mu = data.get_period_return_mean_vector()\n",
    "# sigma = data.get_period_return_covariance_matrix()"
   ]
  },
  {
   "cell_type": "code",
   "execution_count": 5,
   "metadata": {
    "id": "fS_3p0H6Meuj"
   },
   "outputs": [
    {
     "ename": "SyntaxError",
     "evalue": "invalid syntax (<ipython-input-5-45553c983768>, line 1)",
     "output_type": "error",
     "traceback": [
      "\u001b[1;36m  File \u001b[1;32m\"<ipython-input-5-45553c983768>\"\u001b[1;36m, line \u001b[1;32m1\u001b[0m\n\u001b[1;33m    Nasdaq_Index=['AAPL','ADBE','ADI','ADP','ADSK','AEP','ALGN','AMAT','AMD','AMGN','AMZN','ANSS','ASML',,'ATVI','AVGO','AZN','BIDU','BIIB','BKNG','CDNS','CHTR','CMCSA','COST','CPRT','CSCO']\u001b[0m\n\u001b[1;37m                                                                                                         ^\u001b[0m\n\u001b[1;31mSyntaxError\u001b[0m\u001b[1;31m:\u001b[0m invalid syntax\n"
     ]
    }
   ],
   "source": [
    "Nasdaq_Index=['AAPL','ADBE','ADI','ADP','ADSK','AEP','ALGN','AMAT','AMD','AMGN','AMZN','ANSS','ASML',,'ATVI','AVGO','AZN','BIDU','BIIB','BKNG','CDNS','CHTR','CMCSA','COST','CPRT','CSCO']\n",
    "\n",
    "              \n",
    "\n",
    "\n",
    "\n",
    "# Nasdaq_Index=['AAPL','ADBE','ADI','ADP','ADSK','AEP','ALGN','AMAT','AMD','AMGN','AMZN','ANSS',\n",
    "#               'ASML','ATVI','AVGO','AZN','BIDU','BIIB','BKNG','CDNS','CHTR','CMCSA','COST',\n",
    "#               'CPRT','CSCO','CSX','CTAS','CTSH','DLTR','DXCM','EA','EBAY',\n",
    "#               'EXC','FAST','FB','FISV','FTNT','GILD','GOOG','GOOGL','HON','IDXX','ILMN','INTC',\n",
    "#               'INTU','ISRG','JD','KDP','KHC','KLAC','LRCX','LULU','MAR','MCHP','MDLZ',\n",
    "#               'MELI','MNST','MRVL','MSFT','MTCH','MU','NFLX','NTES','NVDA','NXPI',\n",
    "#               'ODFL','ORLY','PANW','PAYX','PCAR','PEP','PYPL','QCOM','REGN',\n",
    "#               'ROST','SBUX','SGEN','SIRI','SNPS','SPLK','SWKS','TEAM','TMUS','TSLA','TXN',\n",
    "#               'VRSK','VRSN','VRTX','WBA','WDAY','XEL']\n",
    "\n",
    "\n",
    "#removed -> CEG,'ZM','ZS','ABNB','CRWD','DDOG','DOCU','LCID','MRNA','OKTA','PDD',\n",
    "# Symbol\n",
    "\n",
    "# Name\t\n",
    "# Market Cap\t\n",
    "# Last Sale\t\n",
    "# Net Change\t\n",
    "# Percentage Change\n",
    "# AAPL\tApple Inc. Common Stock\t2,823,905,939,200\t$162.88\t+1.09\t+0.67%\n",
    "# ABNB\tAirbnb, Inc. Class A Common Stock\t94,463,638,719\t$158.39\t+2.30\t+1.47%\n",
    "# ADBE\tAdobe Inc. Common Stock\t195,591,375,000\t$413.95\t+5.28\t+1.29%\n",
    "# ADI\tAnalog Devices, Inc. Common Stock\t83,165,240,460\t$158.92\t+3.67\t+2.36%\n",
    "# ADP\tAutomatic Data Processing, Inc. Common Stock\t95,375,477,871\t$227.06\t+3.54\t+1.58%\n",
    "# ADSK\tAutodesk, Inc. Common Stock\t41,538,419,230\t$191.15\t+3.84\t+2.05%\n",
    "# AEP\tAmerican Electric Power Company, Inc. Common Stock\t50,706,957,420\t$100.50\t+0.25\t+0.25%\n",
    "# ALGN\tAlign Technology, Inc. Common Stock\t29,068,097,876\t$368.86\t+8.29\t+2.3%\n",
    "# AMAT\tApplied Materials, Inc. Common Stock\t101,122,184,326\t$114.47\t+1.67\t+1.48%\n",
    "# AMD\tAdvanced Micro Devices, Inc. Common Stock\t147,585,729,583\t$90.69\t+2.55\t+2.89%\n",
    "# AMGN\tAmgen Inc. Common Stock\t134,604,514,529\t$252.17\t+1.82\t+0.73%\n",
    "# AMZN\tAmazon.com, Inc. Common Stock\t1,485,690,125,748\t$2921.48\t+34.48\t+1.19%\n",
    "# ANSS\tANSYS, Inc. Common Stock\t24,555,271,679\t$282.16\t+5.64\t+2.04%\n",
    "# ASML\tASML Holding N.V. New York Registry Shares\t241,488,499,510\t$599.82\t-7.79\t-1.28%\n",
    "# ATVI\tActivision Blizzard, Inc. Common Stock\t60,822,860,664\t$78.05\t-0.56\t-0.71%\n",
    "# AVGO\tBroadcom Inc. Common Stock\t240,020,334,220\t$587.88\t+0.93\t+0.16%\n",
    "# AZN\tAstraZeneca PLC American Depositary Shares\t204,403,950,045\t$65.96\t+0.10\t+0.15%\n",
    "# BIDU\tBaidu, Inc. ADS\t40,280,823,300\t$116.57\t+2.00\t+1.75%\n",
    "# BIIB\tBiogen Inc. Common Stock\t31,529,397,610\t$214.54\t+4.55\t+2.17%\n",
    "# BKNG\tBooking Holdings Inc. Common Stock\t91,835,414,200\t$2246.04\t+32.17\t+1.45%\n",
    "# CDNS\tCadence Design Systems, Inc. Common Stock\t42,062,633,243\t$151.10\t+3.03\t+2.05%\n",
    "# CEG\tConstellation Energy Corporation Common Stock\t20,341,363,357\t$62.27\t-0.16\t-0.26%\n",
    "# CHTR\tCharter Communications, Inc. Class A Common Stock New\t103,877,735,764\t$506.97\t-4.40\t-0.86%\n",
    "# CMCSA\tComcast Corporation Class A Common Stock\t207,213,958,156\t$45.71\t+0.33\t+0.73%\n",
    "# COST\tCostco Wholesale Corporation Common Stock\t251,844,473,821\t$568.21\t-3.49\t-0.61%\n",
    "# CPRT\tCopart, Inc. (DE) Common Stock\t28,074,556,188\t$118.21\t+2.06\t+1.77%\n",
    "# CRWD\tCrowdStrike Holdings, Inc. Class A Common Stock\t49,518,167,399\t$214.58\t+8.96\t+4.36%\n",
    "# CSCO\tCisco Systems, Inc. Common Stock (DE)\t215,767,485,920\t$51.94\t+0.58\t+1.13%\n",
    "# CSX\tCSX Corporation Common Stock\t75,316,364,737\t$34.64\t+0.12\t+0.35%\n",
    "# CTAS\tCintas Corporation Common Stock\t41,949,120,514\t$409.96\t+1.97\t+0.48%\n",
    "# CTSH\tCognizant Technology Solutions Corporation Class A Common Stock\t44,302,211,573\t$84.46\t+1.30\t+1.56%\n",
    "# DDOG\tDatadog, Inc. Class A Common Stock\t38,321,061,677\t$121.68\t+3.28\t+2.77%\n",
    "# DLTR\tDollar Tree Inc. Common Stock\t38,234,989,381\t$169.85\t+2.36\t+1.41%\n",
    "# DOCU\tDocuSign, Inc. Common Stock\t17,888,254,587\t$89.95\t+3.62\t+4.19%\n",
    "# DXCM\tDexCom, Inc. Common Stock\t43,419,744,093\t$442.49\t+1.84\t+0.42%\n",
    "# EA\tElectronic Arts Inc. Common Stock\t36,038,633,644\t$128.15\t+0.06\t+0.05%\n",
    "# EBAY\teBay Inc. Common Stock\t30,423,546,035\t$53.63\t+0.46\t+0.87%\n",
    "# EXC\tExelon Corporation Common Stock\t47,801,279,929\t$48.77\t+0.12\t+0.25%\n",
    "# FAST\tFastenal Company Common Stock\t32,780,763,522\t$56.95\tUNCH\t\n",
    "# FB\tMeta Platforms, Inc. Class A Common Stock\t507,589,933,286\t$186.99\t+2.88\t+1.56%\n",
    "# FISV\tFiserv, Inc. Common Stock\t63,546,507,458\t$97.95\t+0.59\t+0.61%\n",
    "# FTNT\tFortinet, Inc. Common Stock\t52,022,188,627\t$323.49\t+19.20\t+6.31%\n",
    "# GILD\tGilead Sciences, Inc. Common Stock\t78,675,053,107\t$62.65\t+0.40\t+0.64%\n",
    "# GOOG\tAlphabet Inc. Class C Capital Stock\t1,629,304,245,145\t$2465.00\t+72.72\t+3.04%\n",
    "# GOOGL\tAlphabet Inc. Class A Common Stock\t1,626,977,611,902\t$2461.48\t+68.77\t+2.87%\n",
    "# HON\tHoneywell International Inc. Common Stock\t131,489,100,461\t$191.82\t+1.19\t+0.62%\n",
    "# IDXX\tIDEXX Laboratories, Inc. Common Stock\t39,773,757,650\t$472.27\t-1.37\t-0.29%\n",
    "# ILMN\tIllumina, Inc. Common Stock\t50,126,645,821\t$319.10\t-3.57\t-1.11%\n",
    "# INTC\tIntel Corporation Common Stock\t192,414,031,878\t$47.06\t+0.52\t+1.12%\n",
    "# INTU\tIntuit Inc. Common Stock\t126,397,379,452\t$446.93\t+3.64\t+0.82%\n",
    "# ISRG\tIntuitive Surgical, Inc. Common Stock\t91,637,786,815\t$255.12\t+2.78\t+1.1%\n",
    "# JD\tJD.com, Inc. American Depositary Shares\t83,771,831,173\t$53.72\t+1.68\t+3.23%\n",
    "# KDP\tKeurig Dr Pepper Inc. Common Stock\t52,897,306,940\t$37.30\t+0.30\t+0.81%\n",
    "# KHC\tThe Kraft Heinz Company Common Stock\t52,719,443,872\t$43.04\t-0.14\t-0.32%\n",
    "# KLAC\tKLA Corporation Common Stock\t49,918,428,755\t$331.21\t+6.93\t+2.14%\n",
    "# LCID\tLucid Group, Inc. Common Stock\t31,957,457,984\t$19.33\t+0.22\t+1.15%\n",
    "# LRCX\tLam Research Corporation Common Stock\t66,082,788,940\t$476.42\t+13.29\t+2.87%\n",
    "# LULU\tlululemon athletica inc. Common Stock\t47,083,631,995\t$368.09\t+4.43\t+1.22%\n",
    "# MAR\tMarriott International Class A Common Stock\t59,717,338,387\t$182.48\t+2.99\t+1.67%\n",
    "# MCHP\tMicrochip Technology Incorporated Common Stock\t37,862,968,645\t$68.10\t+2.03\t+3.07%\n",
    "# MDLZ\tMondelez International, Inc. Class A Common Stock\t90,981,068,155\t$65.78\t+0.72\t+1.11%\n",
    "# MELI\tMercadoLibre, Inc. Common Stock\t52,532,543,642\t$1041.92\t+62.10\t+6.34%\n",
    "# MNST\tMonster Beverage Corporation\t45,884,825,985\t$86.68\t+1.03\t+1.2%\n",
    "# MRNA\tModerna, Inc. Common Stock\t60,618,270,689\t$150.41\t+10.07\t+7.18%\n",
    "# MRVL\tMarvell Technology, Inc. Common Stock\t51,452,982,000\t$60.69\t+2.25\t+3.85%\n",
    "# MSFT\tMicrosoft Corporation Common Stock\t2,104,520,343,668\t$280.72\t+6.69\t+2.44%\n",
    "# MTCH\tMatch Group, Inc. Common Stock\t23,519,030,794\t$82.48\t+5.18\t+6.7%\n",
    "# MU\tMicron Technology, Inc. Common Stock\t78,300,680,013\t$70.12\t+0.71\t+1.02%\n",
    "# NFLX\tNetflix, Inc. Common Stock\t93,257,523,854\t$209.91\t-5.61\t-2.6%\n",
    "# NTES\tNetEase, Inc. American Depositary Shares\t237,178,250,059\t$88.37\t+2.51\t+2.92%\n",
    "# NVDA\tNVIDIA Corporation Common Stock\t498,348,936,136\t$199.02\t+3.87\t+1.98%\n",
    "# NXPI\tNXP Semiconductors N.V. Common Stock\t45,379,606,594\t$172.84\t+2.09\t+1.22%\n",
    "# ODFL\tOld Dominion Freight Line, Inc. Common Stock\t31,832,646,392\t$279.82\t+10.79\t+4.01%\n",
    "# OKTA\tOkta, Inc. Class A Common Stock\t21,686,745,638\t$138.40\t+2.07\t+1.52%\n",
    "# ORLY\tO'Reilly Automotive, Inc. Common Stock\t47,297,171,267\t$713.42\t+5.65\t+0.8%\n",
    "# PANW\tPalo Alto Networks, Inc. Common Stock\t59,064,045,014\t$599.73\t+28.15\t+4.92%\n",
    "# PAYX\tPaychex, Inc. Common Stock\t47,744,549,695\t$132.25\t+0.90\t+0.69%\n",
    "# PCAR\tPACCAR Inc. Common Stock\t30,021,709,741\t$86.35\t+0.66\t+0.77%\n",
    "# PDD\tPinduoduo Inc. American Depositary Shares\t44,617,081,316\t$35.60\t+0.87\t+2.51%\n",
    "# PEP\tPepsiCo, Inc. Common Stock\t240,325,611,764\t$173.74\t+1.59\t+0.92%\n",
    "# PYPL\tPayPal Holdings, Inc. Common Stock\t101,938,536,546\t$87.78\t+1.75\t+2.03%\n",
    "# QCOM\tQUALCOMM Incorporated Common Stock\t153,903,120,000\t$136.56\t+3.75\t+2.82%\n",
    "# REGN\tRegeneron Pharmaceuticals, Inc. Common Stock\t75,830,123,104\t$690.33\t+2.25\t+0.33%\n",
    "# ROST\tRoss Stores, Inc. Common Stock\t37,110,545,027\t$105.61\t+2.15\t+2.08%\n",
    "# SBUX\tStarbucks Corporation Common Stock\t89,700,394,000\t$77.98\t+0.06\t+0.08%\n",
    "# SGEN\tSeagen Inc. Common Stock\t25,466,310,028\t$138.54\t+0.54\t+0.39%\n",
    "# SIRI\tSirius XM Holdings Inc. Common Stock\t24,304,317,702\t$6.17\t-0.08\t-1.28%\n",
    "# SNPS\tSynopsys, Inc. Common Stock\t44,539,478,750\t$290.92\t+5.92\t+2.08%\n",
    "# SPLK\tSplunk Inc. Common Stock\t20,730,300,000\t$129.00\t+5.42\t+4.39%\n",
    "# SWKS\tSkyworks Solutions, Inc. Common Stock\t19,057,777,126\t$117.88\t+2.78\t+2.42%\n",
    "# TEAM\tAtlassian Corporation Plc Class A Ordinary Shares\t64,291,845,671\t$253.63\t+8.34\t+3.4%\n",
    "# TMUS\tT-Mobile US, Inc. Common Stock\t160,921,038,975\t$128.81\t+0.18\t+0.14%\n",
    "# TSLA\tTesla, Inc. Common Stock\t1,031,461,265,930\t$998.02\t-7.03\t-0.7%\n",
    "# TXN\tTexas Instruments Incorporated Common Stock\t160,497,633,329\t$173.91\t+0.60\t+0.35%\n",
    "# VRSK\tVerisk Analytics, Inc. Common Stock\t33,950,414,339\t$213.85\t+3.25\t+1.54%\n",
    "# VRSN\tVeriSign, Inc. Common Stock\t23,174,757,679\t$211.17\t+5.32\t+2.58%\n",
    "# VRTX\tVertex Pharmaceuticals Incorporated Common Stock\t69,423,463,264\t$271.68\t+1.26\t+0.47%\n",
    "# WBA\tWalgreens Boots Alliance, Inc. Common Stock\t39,206,677,531\t$45.39\t-0.15\t-0.33%\n",
    "# WDAY\tWorkday, Inc. Class A Common Stock\t52,491,630,000\t$209.13\t+3.00\t+1.46%\n",
    "# XEL\tXcel Energy Inc. Common Stock\t40,131,894,976\t$73.70\t-0.60\t-0.81%\n",
    "# ZM\tZoom Video Communications, Inc. Class A Common Stock\t30,642,258,770\t$102.44\t+2.27\t+2.27%\n",
    "# ZS\tZscaler, Inc. Common Stock\t30,585,889,991\t$216.79\t+10.32\t+5%\n"
   ]
  },
  {
   "cell_type": "code",
   "execution_count": null,
   "metadata": {
    "colab": {
     "base_uri": "https://localhost:8080/",
     "height": 1000
    },
    "id": "lzpVbmj2YZuN",
    "outputId": "e9ee513d-3814-4fae-cffb-287afc64681f"
   },
   "outputs": [],
   "source": [
    "from qiskit_finance.data_providers import YahooDataProvider\n",
    "from qiskit_finance import QiskitFinanceError\n",
    "\n",
    "try:\n",
    "    data = YahooDataProvider(\n",
    "        #tickers=[\"AEO\", \"ABBY\", \"AEP\", \"AAL\",\"INFY\",\"AAPL\",\"VRTX\",\"PAYX\"],\n",
    "        tickers = Nasdaq_Index,\n",
    "        start=datetime.datetime(2021, 4, 1),\n",
    "        end=datetime.datetime(2022, 3, 31),\n",
    "    )\n",
    "    data.run()\n",
    "    for (cnt, s) in enumerate(data._tickers):\n",
    "        print(\"cnt is :\",cnt,\" s is :\", s)\n",
    "        #plt.subplot(len(Nasdaq_Index),1,(cnt+1))\n",
    "        plt.plot(data._data[cnt], label=s)\n",
    "        plt.legend(loc=\"upper center\", bbox_to_anchor=(0.5, 1.1), ncol=8)\n",
    "        plt.xticks(rotation=90)\n",
    "        plt.show()\n",
    "    \n",
    "except QiskitFinanceError as ex:\n",
    "    data = None\n",
    "    print(ex)"
   ]
  },
  {
   "cell_type": "code",
   "execution_count": null,
   "metadata": {
    "id": "FOv6OeqaYRCE"
   },
   "outputs": [],
   "source": [
    "# set number of assets (= number of qubits)\n",
    "num_assets = len(Nasdaq_Index)\n",
    "#num_assets = 8\n",
    "seed = 123\n",
    "\n",
    "# # Generate expected return and covariance matrix from (random) time-series\n",
    "# stocks = [(\"TICKER%s\" % i) for i in range(num_assets)]\n",
    "# data = YahooDataProvider(\n",
    "#     tickers=stocks,\n",
    "#     start=datetime.datetime(2016, 1, 1),\n",
    "#     end=datetime.datetime(2016, 1, 30),\n",
    "#     seed=seed,\n",
    "# )\n",
    "# data.run()\n",
    "mu = data.get_period_return_mean_vector()\n",
    "sigma = data.get_period_return_covariance_matrix()"
   ]
  },
  {
   "cell_type": "markdown",
   "metadata": {
    "id": "uoYVi182LrMB"
   },
   "source": []
  },
  {
   "cell_type": "code",
   "execution_count": null,
   "metadata": {
    "colab": {
     "base_uri": "https://localhost:8080/"
    },
    "id": "I_zhoOIWLhLp",
    "outputId": "240a0fa9-5597-4614-9d9e-2d8bcd946551"
   },
   "outputs": [],
   "source": [
    "type(data)"
   ]
  },
  {
   "cell_type": "code",
   "execution_count": null,
   "metadata": {
    "colab": {
     "base_uri": "https://localhost:8080/",
     "height": 265
    },
    "id": "mM9UCsJrelAb",
    "outputId": "c1f89312-315e-4625-9f95-43cd20d327d3"
   },
   "outputs": [],
   "source": [
    "# plot sigma\n",
    "plt.imshow(sigma, interpolation=\"nearest\")\n",
    "plt.show()"
   ]
  },
  {
   "cell_type": "code",
   "execution_count": null,
   "metadata": {
    "colab": {
     "base_uri": "https://localhost:8080/"
    },
    "id": "RuhhslMhx1Do",
    "outputId": "7cde662b-6971-4d9d-98b5-413cfd3e7d2a"
   },
   "outputs": [],
   "source": [
    "print(data)\n",
    "print(mu)\n",
    "print(len(mu))\n",
    "print()\n",
    "print(\"Sigma is:\",sigma)"
   ]
  },
  {
   "cell_type": "code",
   "execution_count": null,
   "metadata": {
    "colab": {
     "base_uri": "https://localhost:8080/"
    },
    "id": "dEQwgd4geqL0",
    "outputId": "81968ba5-8069-4a3e-b325-53fc03b085f6"
   },
   "outputs": [],
   "source": [
    "q = 0.5  # set risk factor\n",
    "# budget = num_assets // 2  # set budget so it will be 2\n",
    "budget = 5\n",
    "penalty = num_assets  # set parameter to scale the budget penalty term\n",
    "\n",
    "portfolio = PortfolioOptimization(\n",
    "    expected_returns=mu, covariances=sigma, risk_factor=q, budget=budget\n",
    ")\n",
    "qp = portfolio.to_quadratic_program()\n",
    "qp"
   ]
  },
  {
   "cell_type": "code",
   "execution_count": null,
   "metadata": {
    "id": "ulQZHG7feuxb"
   },
   "outputs": [],
   "source": [
    "def index_to_selection(i, num_assets):\n",
    "    s = \"{0:b}\".format(i).rjust(num_assets)\n",
    "    x = np.array([1 if s[i] == \"1\" else 0 for i in reversed(range(num_assets))])\n",
    "    return x\n",
    "\n",
    "\n",
    "def print_result(result):\n",
    "    selection = result.x\n",
    "    value = result.fval\n",
    "    print(\"Optimal: selection {}, value {:.4f}\".format(selection, value))\n",
    "\n",
    "    eigenstate = result.min_eigen_solver_result.eigenstate\n",
    "    eigenvector = eigenstate if isinstance(eigenstate, np.ndarray) else eigenstate.to_matrix()\n",
    "    probabilities = np.abs(eigenvector) ** 2\n",
    "    i_sorted = reversed(np.argsort(probabilities))\n",
    "    print(\"\\n----------------- Full result ---------------------\")\n",
    "    print(\"selection\\tvalue\\t\\tprobability\")\n",
    "    print(\"---------------------------------------------------\")\n",
    "    for i in i_sorted:\n",
    "        x = index_to_selection(i, num_assets)\n",
    "        value = QuadraticProgramToQubo().convert(qp).objective.evaluate(x)\n",
    "        # value = portfolio.to_quadratic_program().objective.evaluate(x)\n",
    "        probability = probabilities[i]\n",
    "        print(\"%10s\\t%.4f\\t\\t%.4f\" % (x, value, probability))"
   ]
  },
  {
   "cell_type": "code",
   "execution_count": null,
   "metadata": {
    "colab": {
     "base_uri": "https://localhost:8080/",
     "height": 1000
    },
    "id": "Fl_4zbP7e-N3",
    "outputId": "ca3fac6f-ea5c-4c0e-9462-992cde0da1ef"
   },
   "outputs": [],
   "source": [
    "exact_mes = NumPyMinimumEigensolver()\n",
    "exact_eigensolver = MinimumEigenOptimizer(exact_mes)\n",
    "\n",
    "result = exact_eigensolver.solve(qp)\n",
    "\n",
    "print_result(result)"
   ]
  },
  {
   "cell_type": "code",
   "execution_count": null,
   "metadata": {
    "colab": {
     "base_uri": "https://localhost:8080/"
    },
    "id": "gierHPDUfD2-",
    "outputId": "dee3d6ac-9b61-4210-dd62-9125c7d91fc8"
   },
   "outputs": [],
   "source": [
    "from qiskit.utils import algorithm_globals\n",
    "\n",
    "algorithm_globals.random_seed = 12345678\n",
    "backend = Aer.get_backend(\"statevector_simulator\")\n",
    "#backend = Aer.get_backend(\"qasm_simulator\")\n",
    "#backend = qcomp\n",
    "cobyla = COBYLA()\n",
    "cobyla.set_options(maxiter=100)\n",
    "ry = TwoLocal(num_assets, \"ry\", \"cz\", reps=3, entanglement=\"full\")\n",
    "quantum_instance = QuantumInstance(backend=backend, seed_simulator=seed, seed_transpiler=seed)\n",
    "vqe_mes = VQE(ry, optimizer=cobyla, quantum_instance=quantum_instance)\n",
    "vqe = MinimumEigenOptimizer(vqe_mes)\n",
    "result = vqe.solve(qp)\n",
    "\n",
    "print_result(result)"
   ]
  },
  {
   "cell_type": "code",
   "execution_count": null,
   "metadata": {
    "colab": {
     "base_uri": "https://localhost:8080/"
    },
    "id": "4JHKlxpefH8I",
    "outputId": "4ff40473-3f99-49bf-f485-ba34e616b249"
   },
   "outputs": [],
   "source": [
    "from qiskit.utils import algorithm_globals\n",
    "algorithm_globals.random_seed = 1234\n",
    "backend = Aer.get_backend(\"statevector_simulator\")\n",
    "#backend = Aer.get_backend(\"qasm_simulator\")\n",
    "\n",
    "cobyla = COBYLA()\n",
    "cobyla.set_options(maxiter=100)\n",
    "quantum_instance = QuantumInstance(backend=backend, seed_simulator=seed, seed_transpiler=seed)\n",
    "qaoa_mes = QAOA(optimizer=cobyla, reps=3, quantum_instance=quantum_instance)\n",
    "qaoa = MinimumEigenOptimizer(qaoa_mes)\n",
    "result = qaoa.solve(qp)\n",
    "\n",
    "print_result(result)"
   ]
  },
  {
   "cell_type": "code",
   "execution_count": null,
   "metadata": {
    "id": "oqdKZdkZfX0b"
   },
   "outputs": [],
   "source": []
  },
  {
   "cell_type": "markdown",
   "metadata": {
    "id": "Mu_bUMCPLsto"
   },
   "source": [
    "new code try"
   ]
  },
  {
   "cell_type": "code",
   "execution_count": null,
   "metadata": {
    "id": "gFUTikOlMS71"
   },
   "outputs": [],
   "source": []
  },
  {
   "cell_type": "code",
   "execution_count": null,
   "metadata": {
    "id": "EbdDVULcLyb7"
   },
   "outputs": [],
   "source": [
    "from qiskit_finance.data_providers import YahooDataProvider\n",
    "from qiskit_finance import QiskitFinanceError\n",
    "\n",
    "try:\n",
    "    data = YahooDataProvider(\n",
    "        tickers=[\"AEO\", \"ABBY\", \"AEP\", \"AAL\",\"INFY\",\"AAPL\",\"VRTX\",\"PAYX\"],\n",
    "        start=datetime.datetime(2018, 1, 1),\n",
    "        end=datetime.datetime(2018, 12, 31),\n",
    "    )\n",
    "    data.run()\n",
    "    for (cnt, s) in enumerate(data._tickers):\n",
    "        plt.plot(data._data[cnt], label=s)\n",
    "    plt.legend(loc=\"upper center\", bbox_to_anchor=(0.5, 1.1), ncol=8)\n",
    "    plt.xticks(rotation=90)\n",
    "    plt.show()\n",
    "except QiskitFinanceError as ex:\n",
    "    data = None\n",
    "    print(ex)"
   ]
  },
  {
   "cell_type": "code",
   "execution_count": null,
   "metadata": {
    "id": "KIu32l8YLuW0"
   },
   "outputs": [],
   "source": [
    "# set number of assets (= number of qubits)\n",
    "num_assets = 8\n",
    "seed = 123\n",
    "\n",
    "# # Generate expected return and covariance matrix from (random) time-series\n",
    "# stocks = [(\"TICKER%s\" % i) for i in range(num_assets)]\n",
    "# data = YahooDataProvider(\n",
    "#     tickers=stocks,\n",
    "#     start=datetime.datetime(2016, 1, 1),\n",
    "#     end=datetime.datetime(2016, 1, 30),\n",
    "#     seed=seed,\n",
    "# )\n",
    "# data.run()\n",
    "mu = data.get_period_return_mean_vector()\n",
    "sigma = data.get_period_return_covariance_matrix()"
   ]
  },
  {
   "cell_type": "code",
   "execution_count": null,
   "metadata": {
    "id": "wncS8KatMz5j"
   },
   "outputs": [],
   "source": [
    "mu"
   ]
  },
  {
   "cell_type": "code",
   "execution_count": null,
   "metadata": {
    "id": "XN8eOm_KM1ML"
   },
   "outputs": [],
   "source": [
    "sigma"
   ]
  },
  {
   "cell_type": "code",
   "execution_count": null,
   "metadata": {
    "id": "0-6hJRw1M2dR"
   },
   "outputs": [],
   "source": []
  }
 ],
 "metadata": {
  "colab": {
   "collapsed_sections": [],
   "name": "Portfolio_Optimization.ipynb",
   "provenance": []
  },
  "kernelspec": {
   "display_name": "Python 3",
   "language": "python",
   "name": "python3"
  },
  "language_info": {
   "codemirror_mode": {
    "name": "ipython",
    "version": 3
   },
   "file_extension": ".py",
   "mimetype": "text/x-python",
   "name": "python",
   "nbconvert_exporter": "python",
   "pygments_lexer": "ipython3",
   "version": "3.8.8"
  }
 },
 "nbformat": 4,
 "nbformat_minor": 1
}
